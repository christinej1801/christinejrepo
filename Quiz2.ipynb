{
  "nbformat": 4,
  "nbformat_minor": 0,
  "metadata": {
    "colab": {
      "name": "Quiz2.ipynb",
      "version": "0.3.2",
      "provenance": [],
      "include_colab_link": true
    },
    "kernelspec": {
      "name": "python3",
      "display_name": "Python 3"
    }
  },
  "cells": [
    {
      "cell_type": "markdown",
      "metadata": {
        "id": "view-in-github",
        "colab_type": "text"
      },
      "source": [
        "<a href=\"https://colab.research.google.com/github/christinej1801/christinejrepo/blob/master/Quiz2.ipynb\" target=\"_parent\"><img src=\"https://colab.research.google.com/assets/colab-badge.svg\" alt=\"Open In Colab\"/></a>"
      ]
    },
    {
      "cell_type": "markdown",
      "metadata": {
        "id": "gdQjWtv3krfi",
        "colab_type": "text"
      },
      "source": [
        "**1**\n",
        "**Consider a minimizing ∑i=1n (Yi - 1 Xi1-2Xi2--pXip )2 where each Xikis of the form Xik=I(i Gk). That is, each Xikis 1 if unit iis in group k. For example, icould be a person and group kis a characteristic, like a category of sleep disorder (none, mild, moderate, severe) and Yiis an outcome, say blood pressure.  Argue that the prediction for a person in group kis Y(k). That is, the outcome mean for subjects in group k. The Yiwere not centered.  (Hint, try breaking up the sum into groups. Use any fact we’ve established in class.)**"
      ]
    },
    {
      "cell_type": "markdown",
      "metadata": {
        "colab_type": "text",
        "id": "U73JJKGjtJIG"
      },
      "source": [
        "$$\\sum^{n}_{i=1}(Y_i-\\beta_1X_{i1}-\\beta_2X_{i2} - ...-\\beta_pX_{ip})^2$$\n",
        "\n",
        "$$=\\sum_{i\\in G_1}(Y_i-\\beta_1X_{i1}-\\beta_2X_{i2} - ...-\\beta_pX_{ip})^2 + \\sum_{i\\in G_2}(Y_i-\\beta_1X_{i1}-\\beta_2X_{i2} - ...-\\beta_pX_{ip})^2+... + \\sum_{i\\in G_p}(Y_i-\\beta_1X_{i1}-\\beta_2X_{i2} - ...-\\beta_pX_{ip})^2 $$\n",
        "\n",
        "$$=\\sum_{i\\in G_1}(Y_i-\\beta_1X_{i1})^2 + \\sum_{i\\in G_2}(Y_i-\\beta_2X_{i2})^2 + ...+\\sum_{i\\in G_p}(Y_i-\\beta_pX_{ip})^2  $$\n",
        "\n",
        "$$=\\sum_{i\\in G_1}(Y_i-\\beta_1)^2 + \\sum_{i\\in G_2}(Y_i-\\beta_2)^2 + ...+\\sum_{i\\in G_p}(Y_i-\\beta_p)^2 $$\n",
        "\n",
        "In order to minimize these errors, we see that\n",
        "\n",
        "$$\\hat{\\beta_1} = \\overline{Y}^{(1)},\\hat{\\beta_2} = \\overline{Y}^{(2)}, ... ,\\hat{\\beta_p} = \\overline{Y}^{(p)} \\ (*)$$\n",
        "\n",
        "Thus, plugging into the equation, the prediction for a person in group K would be the following, since all the other $X$s would = 0 by the indicator variable.\n",
        "\n",
        "$$\\hat{\\beta_k}X_{ik} = \\hat{\\beta_k} = \\overline{Y}^{(k)} from \\ (*)$$\n"
      ]
    },
    {
      "cell_type": "markdown",
      "metadata": {
        "id": "0fJdRrFRvN3P",
        "colab_type": "text"
      },
      "source": [
        "**2. Load in the Kirby 21 data. Use a linear regression model to predict the left diencephalon volume from the right (type I level I). Report your regression coefficients and the in-sample error rate. (Don’t split the data in this example, there aren’t enough subjects for that.)  The in sample error rate is**\n",
        "\t**i=1n(Yi-0-1Xi)2**"
      ]
    },
    {
      "cell_type": "code",
      "metadata": {
        "id": "nV9VZdNGkSGi",
        "colab_type": "code",
        "colab": {}
      },
      "source": [
        "import pandas as pd\n",
        "import numpy as np\n",
        "import matplotlib.pyplot as plt\n",
        "from scipy import stats"
      ],
      "execution_count": 0,
      "outputs": []
    },
    {
      "cell_type": "code",
      "metadata": {
        "colab_type": "code",
        "id": "7CVFdgN8tHZw",
        "colab": {}
      },
      "source": [
        "! if [ ! -e kirby21.csv ] ; \\\n",
        "  then wget https://raw.githubusercontent.com/bcaffo/ds4bme_intro/master/data/kirby21.csv; \\\n",
        "fi"
      ],
      "execution_count": 0,
      "outputs": []
    },
    {
      "cell_type": "code",
      "metadata": {
        "id": "U14WfFRxkam6",
        "colab_type": "code",
        "colab": {
          "base_uri": "https://localhost:8080/",
          "height": 346
        },
        "outputId": "70f7ccfa-8b7d-4bc8-8b6c-b9f4d413076b"
      },
      "source": [
        "def find_preds(x, y):\n",
        "  y_mean = np.mean(y)\n",
        "  x_mean = np.mean(x)\n",
        "  \n",
        "  b1 = np.sum(np.multiply(x - x_mean, y - y_mean))/np.sum(np.square(x - x_mean))\n",
        "  b0 = y_mean - b1*x_mean\n",
        "  return [b0, b1]\n",
        "\n",
        "\n",
        "  \n",
        "df = pd.read_csv(\"/content/kirby21.csv\")\n",
        "df.drop(['Unnamed: 0', 'rawid', 'min', 'max', 'mean', 'std'],\\\n",
        "             axis = 1)\n",
        "\n",
        "ld = df.loc[df['roi']== 'Diencephalon_L']\n",
        "rd = df.loc[df['roi'] == 'Diencephalon_R']\n",
        "\n",
        "ld = ld['volume']\n",
        "rd = rd['volume']\n",
        "\n",
        "m, b, r_value, p_value, std_err = stats.linregress(ld, rd)\n",
        "\n",
        "x = np.linspace(7000, 10000)\n",
        "#y = m*x + b\n",
        "\n",
        "mles = find_preds(rd, ld)\n",
        "b0 = mles[0]\n",
        "b1 = mles[1]\n",
        "fit_line = b1*x + b0\n",
        "\n",
        "\n",
        "sample_err = np.sum(np.square(np.subtract(ld-b0, np.multiply(b1,rd))))\n",
        "\n",
        "plt.figure()\n",
        "plt.title('Predicting Left Diencephalon Volume from Right Diencephalon Volume')\n",
        "\n",
        "plt.scatter(rd, ld)\n",
        "plt.plot(x,fit_line, '--g')\n",
        "plt.xlabel('Right Diencephalon Volume')\n",
        "plt.ylabel('Left Diencephalon Volume')\n",
        "\n",
        "print(\"B0 = \" + str(b0))\n",
        "print(\"B1 = \" + str(b1))\n",
        "print(\"Sample error = \" + str(sample_err))\n"
      ],
      "execution_count": 35,
      "outputs": [
        {
          "output_type": "stream",
          "text": [
            "B0 = -694.1809221478507\n",
            "B1 = 1.0675677731655158\n",
            "Sample error = 832740.3005383236\n"
          ],
          "name": "stdout"
        },
        {
          "output_type": "display_data",
          "data": {
            "image/png": "[encoded data removed]",
            "text/plain": [
              "<Figure size 432x288 with 1 Axes>"
            ]
          },
          "metadata": {
            "tags": []
          }
        }
      ]
    },
    {
      "cell_type": "markdown",
      "metadata": {
        "id": "9yE-wWg_tQWK",
        "colab_type": "text"
      },
      "source": [
        "**Write a two sentence proposal for a project (you won’t be held to this) where you use data to either predict or classify an outcome measure.**\n"
      ]
    },
    {
      "cell_type": "markdown",
      "metadata": {
        "id": "8rzg5j6gwlVN",
        "colab_type": "text"
      },
      "source": [
        "I want to see if I can use the average temperature in a month in New York to predict the rate of violent crime in that same month. I've heard the saying that ice cream sales are correlated to violent crime rates, but it's really because of hot weather, and I want to see how accurately temperature can be used to predict crime rates."
      ]
    }
  ]
}